{
  "nbformat": 4,
  "nbformat_minor": 0,
  "metadata": {
    "colab": {
      "provenance": [],
      "authorship_tag": "ABX9TyNJIgkabf6a0MvK+dS0ZnPF",
      "include_colab_link": true
    },
    "kernelspec": {
      "name": "python3",
      "display_name": "Python 3"
    },
    "language_info": {
      "name": "python"
    }
  },
  "cells": [
    {
      "cell_type": "markdown",
      "metadata": {
        "id": "view-in-github",
        "colab_type": "text"
      },
      "source": [
        "<a href=\"https://colab.research.google.com/github/saafiyawaseem/04_assignment/blob/main/00_intro_py.ipynb\" target=\"_parent\"><img src=\"https://colab.research.google.com/assets/colab-badge.svg\" alt=\"Open In Colab\"/></a>"
      ]
    },
    {
      "cell_type": "code",
      "execution_count": null,
      "metadata": {
        "colab": {
          "base_uri": "https://localhost:8080/"
        },
        "id": "jDqtQ14cuJ3S",
        "outputId": "54c3455a-a420-4eb3-cae7-9ea7a11b983b"
      },
      "outputs": [
        {
          "output_type": "stream",
          "name": "stdout",
          "text": [
            "Enteryour first number28\n",
            "Enter your second number16\n",
            "The totalsum of 28 and 16 is 44\n"
          ]
        }
      ],
      "source": [
        "first_num=int(input(\"Enteryour first number\"))\n",
        "second_num=int(input(\"Enter your second number\"))\n",
        "total=(first_num+second_num)\n",
        "print(f\"The totalsum of {first_num} and {second_num} is {total}\")\n"
      ]
    },
    {
      "cell_type": "markdown",
      "source": [
        "01_agreement_bot"
      ],
      "metadata": {
        "id": "bueYzWF9usvb"
      }
    },
    {
      "cell_type": "code",
      "source": [
        "print(\"02_agreement_bot\")\n",
        "def bot():\n",
        "  animal= str(input(\"What their favourite animal is?\"))\n",
        "  print(f'my favourite animal is {animal}!')\n",
        "if __name__ == \"__main__\":\n",
        " bot()"
      ],
      "metadata": {
        "id": "1EfmY41_uqPt",
        "colab": {
          "base_uri": "https://localhost:8080/"
        },
        "outputId": "7d85bd45-bd1d-48a2-e443-00e668c12791"
      },
      "execution_count": null,
      "outputs": [
        {
          "output_type": "stream",
          "name": "stdout",
          "text": [
            "What their favourite animal isbird\n",
            "my favourite animal is bird!\n"
          ]
        }
      ]
    },
    {
      "cell_type": "markdown",
      "source": [
        "***03_fahrenhiet_to_celsius***"
      ],
      "metadata": {
        "id": "iNvmPw7b-hFJ"
      }
    },
    {
      "cell_type": "code",
      "source": [
        "print(\"03_fahrenhiet_to_celsius\")\n",
        "\n",
        "def converter():\n",
        "  fahrenhiet_degree = float(input(\"Enter your fahrenhiet degree\"))\n",
        "  celsius_degree = (fahrenhiet_degree-32)*5/9\n",
        "  print(f'Temprature{fahrenhiet_degree}F= {celsius_degree}c')\n",
        "if __name__== \"__main__\":\n",
        "\n",
        "   converter()"
      ],
      "metadata": {
        "colab": {
          "base_uri": "https://localhost:8080/"
        },
        "id": "ZXRw30M-dSYZ",
        "outputId": "3bfa2950-1bbb-4d41-f69e-b75c998bfc53"
      },
      "execution_count": null,
      "outputs": [
        {
          "output_type": "stream",
          "name": "stdout",
          "text": [
            "03_fahrenhiet_to_celsius\n",
            "Enter your fahrenhiet degree34\n",
            "Temprature34.0F= 1.1111111111111112c\n"
          ]
        }
      ]
    },
    {
      "cell_type": "markdown",
      "source": [
        "04_How old are they?"
      ],
      "metadata": {
        "id": "_iNXuAPl0IHP"
      }
    },
    {
      "cell_type": "code",
      "source": [
        "\n",
        "def find_age():\n",
        "  Anton_age : int = 21\n",
        "  Beth_age :int = Anton_age + 6\n",
        "  Chen_age:int= Beth_age+20\n",
        "  Drew_age:int =Chen_age + Anton_age\n",
        "  Enthen_age:int =  Chen_age\n",
        "\n",
        "  print(\"Anton's age is\" + str(Anton_age))\n",
        "  print(\"Beth's age is\"  + str(Beth_age))\n",
        "  print(\"Chen's age is\"  + str(Chen_age))\n",
        "  print(\"Drew's age is\"  + str(Drew_age))\n",
        "  print(\"Enthen's age is\" + str(Enthen_age))\n",
        "if __name__== \"__main__\" :\n",
        " find_age()"
      ],
      "metadata": {
        "colab": {
          "base_uri": "https://localhost:8080/"
        },
        "id": "a-H7D8_30ZMW",
        "outputId": "4523b631-c7eb-413c-f946-99a2d454e778"
      },
      "execution_count": null,
      "outputs": [
        {
          "output_type": "stream",
          "name": "stdout",
          "text": [
            "Anton's age is21\n",
            "Beth's age is27\n",
            "Chen's age is47\n",
            "Drew's age is68\n",
            "Enthen's age is47\n"
          ]
        }
      ]
    },
    {
      "cell_type": "markdown",
      "source": [
        "05:perimeter"
      ],
      "metadata": {
        "id": "MD7QteWIw2qU"
      }
    },
    {
      "cell_type": "code",
      "source": [
        "def triangle():\n",
        "  print(\"This code is about perimeter of a triangle\")\n",
        "  side1 :float = float(input(\"Enter your first side\"))\n",
        "  side2 :float = float(input(\"Enter your second side\"))\n",
        "  side3 :float = float(input(\"Enter your third side\"))\n",
        "  total : float = float(side1+side2+side3)\n",
        "  print(f'The perimeter of the Triangle is {total}')\n",
        "if __name__==\"__main__\":\n",
        "    triangle()"
      ],
      "metadata": {
        "colab": {
          "base_uri": "https://localhost:8080/"
        },
        "id": "hzwvAXaEwy_L",
        "outputId": "2f22fe4e-ee0f-4c44-8841-574041568fcc"
      },
      "execution_count": null,
      "outputs": [
        {
          "output_type": "stream",
          "name": "stdout",
          "text": [
            "This code is about perimeter of a triangle\n",
            "Enter your first side3.4\n",
            "Enter your second side2.3\n",
            "Enter your third side1.2\n",
            "the perimeter of the triangle is 6.8999999999999995\n"
          ]
        }
      ]
    },
    {
      "cell_type": "markdown",
      "source": [
        "06:Square Number"
      ],
      "metadata": {
        "id": "4tw6O2FR1TaA"
      }
    },
    {
      "cell_type": "code",
      "source": [
        "def square_number():\n",
        "  print(\"This code about square number\")\n",
        "  num:int = int(input(\"Enter your number\"))\n",
        "  print(f'The Square Number of {num} {num ** 2}')\n",
        "if __name__==\"__main__\":\n",
        "  square_number()"
      ],
      "metadata": {
        "colab": {
          "base_uri": "https://localhost:8080/"
        },
        "id": "PN1VnDa01edr",
        "outputId": "c0d4f8a6-3d6e-4fd7-e594-f50d91c204c2"
      },
      "execution_count": null,
      "outputs": [
        {
          "output_type": "stream",
          "name": "stdout",
          "text": [
            "This code about square number\n",
            "Enter your number4\n",
            "The Square Number of 4 16\n"
          ]
        }
      ]
    }
  ]
}